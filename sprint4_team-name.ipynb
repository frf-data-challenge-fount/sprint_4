{
 "cells": [
  {
   "cell_type": "markdown",
   "id": "4bf85161-3c2b-4059-8179-ebfe1308ff02",
   "metadata": {},
   "source": [
    "<div style=\"display: flex; justify-content: space-between; align-items: center; margin-bottom: 40px; margin-top: 0;\">\n",
    "    <div style=\"flex: 0 0 auto; margin-left: 0; margin-bottom: 0; margin-top: 0;\">\n",
    "        <img src=\"./pics/UCSD Logo.png\" alt=\"UCSD Logo\" style=\"width: 179px; margin-bottom: 0px; margin-top: 20px;\">\n",
    "    </div>\n",
    "    <div style=\"flex: 0 0 auto; margin-left: auto; margin-bottom: 0; margin-top: 20px;\">\n",
    "        <img src=\"./pics/LANL-logo.png\" alt=\"LANL Logo\" style=\"width: 200px; margin-bottom: 0px;\">\n",
    "    </div>\n",
    "    <div style=\"flex: 0 0 auto; margin-left: auto; margin-bottom: 0; margin-top: 20px;\">\n",
    "        <img src=\"./pics/prowess.png\" alt=\"Prowess Logo\" style=\"width: 200px; margin-bottom: 0px;\">\n",
    "    </div>\n",
    "    <div style=\"flex: 0 0 auto; margin-left: auto; margin-bottom: 0; margin-top: 20px;\">\n",
    "        <img src=\"./pics/wildfire.png\" alt=\"WildFire Logo\" width=\"100\"/>\n",
    "    </div>\n",
    "</div>\n",
    "\n",
    "<h1 style=\"text-align: center; font-size: 48px; margin-top: 0;\">Fire-Ready Forests Data Challenge</h1>"
   ]
  },
  {
   "cell_type": "markdown",
   "id": "43cddd68-dbf7-40c0-a499-cb6d4d9fcdac",
   "metadata": {},
   "source": [
    "# Sprint 4\n",
    "\n",
    "Throughout this challenge, you’ve explored a diverse set of data sources and tools that are critical for understanding forest structure to predict fire behavior. Here’s a quick recap of your journey so far:\n",
    "\n",
    "- In Sprint 1, you were introduced to the FIA database and additional field-collected data, where you performed an initial exploratory analysis. You also got your first look at ALS (Airborne Laser Scanning) and TLS (Terrestrial Laser Scanning) data—two powerful technologies for sensing 3D forest structure at scale.\n",
    "- In Sprint 2, you learned how to generate a tree list derived from ALS data, and you explored how to use FastFuels to generate tree lists both through their API and with their open source code.\n",
    "- In Sprint 3, you discovered IntELiMon and TLS-derived tree lists and additional metrics. Finally, you trained a model to improve a tree list using ALS.\n",
    "\n",
    "**SPRINT 4**\n",
    "\n",
    "Collecting field data as model inputs or for ecosystem monitoring can be very time intensive and cost prohibitive. New approaches that leverage sensed data (like the ALS and TLS data you have used) can improve the speed and scalability of gathering crucial information for modeling wildfires and wildfire resilience. Currently, we do not have a good methodology to predict tree species from TLS scans.\n",
    "\n",
    "For Sprint 4, the objective is to answer the following question: For a given site, can you use a set of representative TLS scans to answer the following questions:\n",
    "\n",
    "1. What is the distribution of trees by plant functional type?\n",
    "\n",
    "2. What is the distribution of trees by genus?\n",
    "\n",
    "3. What is the distribution of trees by species?\n",
    "\n",
    "Specifically, your first task is to use all the data you have explored previously (and additional data if you would like) to:\n",
    "\n",
    "- Predict the Plant Functional Type (PFT) distribution for each TLS-derived tree list. The plant functional type describes different categories of plant species based on shared characteristics (for example, evergreen conifers, broadleaf deciduous, etc.) An example output would be: 60% evergreen conifers, 30% broadleaf deciduous, 10% shrubs\n",
    "- Go a step further and attempt to predict the tree genus and species distribution, adding even more ecological specificity that can affect model inputs. Genus is a broad taxonomic group that encompasses multiple species - for example pine (Pinus), ash (Fraxinus), oaks (Quercus). Species is the specific group - for example white pine (Pinus strobus), green ash (Fraxinus pennsylvanica), black oak (Quercus velutina).\n",
    "\n",
    "## Tasks\n",
    "\n",
    "1. Plant Functional Type Prediction: Can you train a machine learning model to predict the Plant Functional Type (PFT) for each individual tree in order to accurately predict the plot-level PFT distribution? Apply your model to the TLS (Terrestrial Laser Scanning) dataset to enrich the current TLS-derived tree lists with PFT labels.\n",
    "\n",
    "Information on PFT codes can be found within the `data` directory\n",
    "\n",
    "2. Genus Classification: Take your model a step further—can you refine or extend it to predict the specific tree genus? Evaluate whether your model can distinguish among species or genus based on the available data. Information on species and genus can be found through the Reference Species Table of the FIA Dataset.\n",
    "\n",
    "3. Species Classification: Take your model a step further—can you refine or extend it to predict the specific tree species? Evaluate whether your model can distinguish among species based on the available data.\n",
    "\n",
    "4. Model Evaluation: Assess the performance of your models by comparing the predicted distributions of Plant Functional Types, genus and species to those observed in the field-collected reference data at those same plots.\n",
    "\n",
    "The following datasets can support the completion of your tasks:\n",
    "\n",
    "- [TLS Dataset](https://nationaldataplatform.org/dataset/terrestrial-lidar-scans-tls-and-derived-tree-lists-for-field-sampled-plots-for-uc-climate-actio)\n",
    "- [FIA Database](https://nationaldataplatform.org/dataset/fia-database-california)\n",
    "- [Observed Field Data](https://nationaldataplatform.org/dataset/observed-field-data-for-uc-climate-action-seed-project-scaling-science-driven-vegetation-treatm)"
   ]
  },
  {
   "cell_type": "code",
   "execution_count": null,
   "id": "d5ef2f3a-8320-4197-81fb-8c3722bc026d",
   "metadata": {},
   "outputs": [],
   "source": [
    "import pandas as pd\n",
    "tls_treelist = pd.read_csv(\"https://wifire-data.sdsc.edu/data/ndp/Data_challenge_2024/new_data/Derived%20TLS%20and%20Tree%20List/TLS_treelist.csv\")"
   ]
  }
 ],
 "metadata": {
  "kernelspec": {
   "display_name": "Python [conda env:remote-test]",
   "language": "python",
   "name": "conda-env-remote-test-py"
  },
  "language_info": {
   "codemirror_mode": {
    "name": "ipython",
    "version": 3
   },
   "file_extension": ".py",
   "mimetype": "text/x-python",
   "name": "python",
   "nbconvert_exporter": "python",
   "pygments_lexer": "ipython3",
   "version": "3.10.16"
  }
 },
 "nbformat": 4,
 "nbformat_minor": 5
}
